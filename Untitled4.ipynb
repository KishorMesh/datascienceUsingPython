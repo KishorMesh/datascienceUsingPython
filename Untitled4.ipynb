{
 "cells": [
  {
   "cell_type": "code",
   "execution_count": 2,
   "id": "7a7ea851",
   "metadata": {},
   "outputs": [
    {
     "name": "stdout",
     "output_type": "stream",
     "text": [
      "1 2 3 4 5 "
     ]
    }
   ],
   "source": [
    "data=[1,2,3,4,5]\n",
    "for i in data:\n",
    "    print(i,end=\" \")"
   ]
  },
  {
   "cell_type": "code",
   "execution_count": 4,
   "id": "4fac07d3",
   "metadata": {},
   "outputs": [],
   "source": [
    "seq=['hi',45,'hello','bye','good']"
   ]
  },
  {
   "cell_type": "code",
   "execution_count": 6,
   "id": "0e823f53",
   "metadata": {},
   "outputs": [
    {
     "data": {
      "text/plain": [
       "list"
      ]
     },
     "execution_count": 6,
     "metadata": {},
     "output_type": "execute_result"
    }
   ],
   "source": [
    "type(seq)"
   ]
  },
  {
   "cell_type": "code",
   "execution_count": 8,
   "id": "f33eef8f",
   "metadata": {},
   "outputs": [
    {
     "name": "stdout",
     "output_type": "stream",
     "text": [
      "hi\n",
      "45\n",
      "hello\n",
      "bye\n",
      "good\n"
     ]
    }
   ],
   "source": [
    "for v in seq:\n",
    "    print(v)"
   ]
  },
  {
   "cell_type": "code",
   "execution_count": 11,
   "id": "c2d8c0f8",
   "metadata": {},
   "outputs": [
    {
     "name": "stdout",
     "output_type": "stream",
     "text": [
      "hi    45    hello    bye    good    "
     ]
    }
   ],
   "source": [
    "for v in seq:\n",
    "    print(v, end=\"    \")"
   ]
  },
  {
   "cell_type": "code",
   "execution_count": 13,
   "id": "29310847",
   "metadata": {},
   "outputs": [
    {
     "name": "stdout",
     "output_type": "stream",
     "text": [
      "45    "
     ]
    }
   ],
   "source": [
    "for v in seq:\n",
    "    if(type(v)==int):\n",
    "        print(v, end=\"    \")"
   ]
  },
  {
   "cell_type": "code",
   "execution_count": 17,
   "id": "2444fc1a",
   "metadata": {},
   "outputs": [
    {
     "name": "stdout",
     "output_type": "stream",
     "text": [
      "even no is: 2\n",
      "even no is: 4\n",
      "even no is: 6\n",
      "even no is: 8\n",
      "even no is: 10\n"
     ]
    }
   ],
   "source": [
    "data=[1,2,3,4,5,6,7,8,9,10]\n",
    "for z in data:\n",
    "    if z%2==0:\n",
    "        print(\"even no is:\",z)"
   ]
  },
  {
   "cell_type": "code",
   "execution_count": 19,
   "id": "8a3e4bc0",
   "metadata": {},
   "outputs": [],
   "source": [
    "names =['sachin','yuvi','rahul','laxman','python']"
   ]
  },
  {
   "cell_type": "code",
   "execution_count": 21,
   "id": "4584d16e",
   "metadata": {},
   "outputs": [
    {
     "data": {
      "text/plain": [
       "['sachin', 'yuvi', 'rahul', 'laxman', 'python']"
      ]
     },
     "execution_count": 21,
     "metadata": {},
     "output_type": "execute_result"
    }
   ],
   "source": [
    "names"
   ]
  },
  {
   "cell_type": "code",
   "execution_count": 25,
   "id": "9f172368",
   "metadata": {},
   "outputs": [
    {
     "name": "stdout",
     "output_type": "stream",
     "text": [
      "sachin\n",
      "rahul\n",
      "laxman\n",
      "python\n"
     ]
    }
   ],
   "source": [
    "for n in names:\n",
    "    if(len(n)>=5):\n",
    "        print(n)"
   ]
  },
  {
   "cell_type": "code",
   "execution_count": 26,
   "id": "a3b1e469",
   "metadata": {},
   "outputs": [],
   "source": [
    "d=[10,20,30,40,50]"
   ]
  },
  {
   "cell_type": "code",
   "execution_count": 27,
   "id": "40f0c1fd",
   "metadata": {},
   "outputs": [
    {
     "data": {
      "text/plain": [
       "[10, 20, 30, 40, 50]"
      ]
     },
     "execution_count": 27,
     "metadata": {},
     "output_type": "execute_result"
    }
   ],
   "source": [
    "d"
   ]
  },
  {
   "cell_type": "code",
   "execution_count": 30,
   "id": "e4eeeb8e",
   "metadata": {},
   "outputs": [
    {
     "name": "stdout",
     "output_type": "stream",
     "text": [
      "20\n",
      "30\n",
      "40\n"
     ]
    }
   ],
   "source": [
    "for v in d[1:4]:\n",
    "    print(v)\n"
   ]
  },
  {
   "cell_type": "markdown",
   "id": "d3ff0101",
   "metadata": {},
   "source": [
    "print('yes')"
   ]
  },
  {
   "cell_type": "code",
   "execution_count": 2,
   "id": "e4c030fc",
   "metadata": {},
   "outputs": [
    {
     "name": "stdout",
     "output_type": "stream",
     "text": [
      "10\n",
      "11\n",
      "12\n",
      "13\n",
      "14\n",
      "15\n",
      "16\n",
      "17\n",
      "18\n",
      "19\n"
     ]
    }
   ],
   "source": [
    "a=10\n",
    "while a<20:\n",
    "    print(a)\n",
    "    a=a+1"
   ]
  },
  {
   "cell_type": "code",
   "execution_count": 3,
   "id": "7727995a",
   "metadata": {},
   "outputs": [],
   "source": [
    "#### function finite - steps"
   ]
  },
  {
   "cell_type": "code",
   "execution_count": 3,
   "id": "643dbe31",
   "metadata": {},
   "outputs": [
    {
     "data": {
      "text/plain": [
       "[100, 120, 140, 160, 180]"
      ]
     },
     "execution_count": 3,
     "metadata": {},
     "output_type": "execute_result"
    }
   ],
   "source": [
    "list(range(100,200,20))"
   ]
  },
  {
   "cell_type": "code",
   "execution_count": 1,
   "id": "86b9ed3e",
   "metadata": {},
   "outputs": [
    {
     "data": {
      "text/plain": [
       "[100, 115, 130, 145, 160, 175, 190]"
      ]
     },
     "execution_count": 1,
     "metadata": {},
     "output_type": "execute_result"
    }
   ],
   "source": [
    "list(range(100,200,15))"
   ]
  },
  {
   "cell_type": "code",
   "execution_count": 1,
   "id": "365be318",
   "metadata": {},
   "outputs": [],
   "source": [
    "def find_cube(n):\n",
    "    return n*n*n"
   ]
  },
  {
   "cell_type": "code",
   "execution_count": 2,
   "id": "a4168aa7",
   "metadata": {},
   "outputs": [
    {
     "data": {
      "text/plain": [
       "64"
      ]
     },
     "execution_count": 2,
     "metadata": {},
     "output_type": "execute_result"
    }
   ],
   "source": [
    "find_cube(4)"
   ]
  },
  {
   "cell_type": "code",
   "execution_count": 3,
   "id": "922116f7",
   "metadata": {},
   "outputs": [
    {
     "name": "stderr",
     "output_type": "stream",
     "text": [
      "\n",
      "KeyboardInterrupt\n",
      "\n"
     ]
    }
   ],
   "source": [
    "find_cube('3')"
   ]
  },
  {
   "cell_type": "code",
   "execution_count": 4,
   "id": "318e71a8",
   "metadata": {},
   "outputs": [
    {
     "data": {
      "text/plain": [
       "8"
      ]
     },
     "execution_count": 4,
     "metadata": {},
     "output_type": "execute_result"
    }
   ],
   "source": [
    "find_cube(2)"
   ]
  },
  {
   "cell_type": "code",
   "execution_count": 5,
   "id": "1763fa6c",
   "metadata": {},
   "outputs": [],
   "source": [
    "def add_2nos(a,b):\n",
    "    return a+b"
   ]
  },
  {
   "cell_type": "code",
   "execution_count": 6,
   "id": "7c67dcf9",
   "metadata": {},
   "outputs": [
    {
     "data": {
      "text/plain": [
       "5"
      ]
     },
     "execution_count": 6,
     "metadata": {},
     "output_type": "execute_result"
    }
   ],
   "source": [
    "add_2nos(2,3)"
   ]
  },
  {
   "cell_type": "code",
   "execution_count": 7,
   "id": "5de67567",
   "metadata": {},
   "outputs": [
    {
     "data": {
      "text/plain": [
       "33.676875"
      ]
     },
     "execution_count": 7,
     "metadata": {},
     "output_type": "execute_result"
    }
   ],
   "source": [
    "add_2nos(10.223345,23.45353)"
   ]
  },
  {
   "cell_type": "code",
   "execution_count": 8,
   "id": "20295891",
   "metadata": {},
   "outputs": [
    {
     "data": {
      "text/plain": [
       "'addtwo'"
      ]
     },
     "execution_count": 8,
     "metadata": {},
     "output_type": "execute_result"
    }
   ],
   "source": [
    "add_2nos('add','two')"
   ]
  },
  {
   "cell_type": "code",
   "execution_count": 10,
   "id": "67315903",
   "metadata": {},
   "outputs": [
    {
     "data": {
      "text/plain": [
       "33.456"
      ]
     },
     "execution_count": 10,
     "metadata": {},
     "output_type": "execute_result"
    }
   ],
   "source": [
    "add_2nos(10,23.456)"
   ]
  },
  {
   "cell_type": "code",
   "execution_count": 11,
   "id": "61ec61b2",
   "metadata": {},
   "outputs": [
    {
     "ename": "NameError",
     "evalue": "name 'names' is not defined",
     "output_type": "error",
     "traceback": [
      "\u001b[1;31m---------------------------------------------------------------------------\u001b[0m",
      "\u001b[1;31mNameError\u001b[0m                                 Traceback (most recent call last)",
      "Cell \u001b[1;32mIn[11], line 1\u001b[0m\n\u001b[1;32m----> 1\u001b[0m names\n",
      "\u001b[1;31mNameError\u001b[0m: name 'names' is not defined"
     ]
    }
   ],
   "source": [
    "names"
   ]
  },
  {
   "cell_type": "code",
   "execution_count": 12,
   "id": "ae4a22fa",
   "metadata": {},
   "outputs": [],
   "source": [
    "seq=[2,3,4,5,6]"
   ]
  },
  {
   "cell_type": "code",
   "execution_count": 18,
   "id": "42f10cd5",
   "metadata": {},
   "outputs": [],
   "source": [
    "def find_even(x):\n",
    "    for i in x:\n",
    "        if i%2==0:\n",
    "            print(i)"
   ]
  },
  {
   "cell_type": "code",
   "execution_count": 19,
   "id": "1bcb0bd3",
   "metadata": {},
   "outputs": [
    {
     "name": "stdout",
     "output_type": "stream",
     "text": [
      "2\n",
      "4\n",
      "6\n"
     ]
    }
   ],
   "source": [
    "find_even(seq)"
   ]
  },
  {
   "cell_type": "code",
   "execution_count": 23,
   "id": "5f45d561",
   "metadata": {},
   "outputs": [],
   "source": [
    "seq2=[1,3,4,5,6,3,4,5,6,7,8,5.6,67,8,9,4,6]"
   ]
  },
  {
   "cell_type": "code",
   "execution_count": 24,
   "id": "4a43f065",
   "metadata": {},
   "outputs": [
    {
     "data": {
      "text/plain": [
       "[1, 3, 4, 5, 6, 3, 4, 5, 6, 7, 8, 5.6, 67, 8, 9, 4, 6]"
      ]
     },
     "execution_count": 24,
     "metadata": {},
     "output_type": "execute_result"
    }
   ],
   "source": [
    "seq2"
   ]
  },
  {
   "cell_type": "code",
   "execution_count": 25,
   "id": "58071978",
   "metadata": {},
   "outputs": [
    {
     "name": "stdout",
     "output_type": "stream",
     "text": [
      "4\n",
      "6\n",
      "4\n",
      "6\n",
      "8\n",
      "8\n",
      "4\n",
      "6\n"
     ]
    }
   ],
   "source": [
    "find_even(seq2)"
   ]
  },
  {
   "cell_type": "code",
   "execution_count": 26,
   "id": "858cdd9a",
   "metadata": {},
   "outputs": [],
   "source": [
    "data=[1,2,3,4,5,6,7,8]"
   ]
  },
  {
   "cell_type": "code",
   "execution_count": 27,
   "id": "a21b4ff1",
   "metadata": {},
   "outputs": [
    {
     "name": "stdout",
     "output_type": "stream",
     "text": [
      "2\n",
      "4\n",
      "6\n",
      "8\n"
     ]
    }
   ],
   "source": [
    "for v in data:\n",
    "    if v%2==0:\n",
    "        print(v)"
   ]
  },
  {
   "cell_type": "code",
   "execution_count": 28,
   "id": "ded2304d",
   "metadata": {},
   "outputs": [
    {
     "name": "stdout",
     "output_type": "stream",
     "text": [
      "2\n",
      "4\n",
      "6\n",
      "8\n"
     ]
    }
   ],
   "source": [
    "find_even(data)"
   ]
  },
  {
   "cell_type": "code",
   "execution_count": 29,
   "id": "95bbabed",
   "metadata": {},
   "outputs": [
    {
     "name": "stdout",
     "output_type": "stream",
     "text": [
      "4\n",
      "6\n",
      "4\n",
      "6\n",
      "8\n",
      "8\n",
      "4\n",
      "6\n"
     ]
    }
   ],
   "source": [
    "find_even(seq2)"
   ]
  },
  {
   "cell_type": "code",
   "execution_count": 30,
   "id": "2e884692",
   "metadata": {},
   "outputs": [],
   "source": [
    "data=['hello','hi','bye','target','hey']"
   ]
  },
  {
   "cell_type": "code",
   "execution_count": 31,
   "id": "bea1e611",
   "metadata": {},
   "outputs": [
    {
     "data": {
      "text/plain": [
       "['hello', 'hi', 'bye', 'target', 'hey']"
      ]
     },
     "execution_count": 31,
     "metadata": {},
     "output_type": "execute_result"
    }
   ],
   "source": [
    "data"
   ]
  },
  {
   "cell_type": "code",
   "execution_count": 32,
   "id": "86233260",
   "metadata": {},
   "outputs": [
    {
     "name": "stdout",
     "output_type": "stream",
     "text": [
      "bye\n",
      "target\n"
     ]
    }
   ],
   "source": [
    "for v in data:\n",
    "    if v[0]!='h':\n",
    "        print(v)"
   ]
  },
  {
   "cell_type": "code",
   "execution_count": 33,
   "id": "ac9be398",
   "metadata": {},
   "outputs": [],
   "source": [
    "def get_name(x):\n",
    "    for i in x:\n",
    "        if i[0]!='h':\n",
    "            print(i)\n",
    "        "
   ]
  },
  {
   "cell_type": "code",
   "execution_count": 34,
   "id": "f926fdbe",
   "metadata": {},
   "outputs": [
    {
     "name": "stdout",
     "output_type": "stream",
     "text": [
      "bye\n",
      "target\n"
     ]
    }
   ],
   "source": [
    "get_name(data)"
   ]
  },
  {
   "cell_type": "code",
   "execution_count": 35,
   "id": "f44e44bc",
   "metadata": {},
   "outputs": [],
   "source": [
    "text='kishor'"
   ]
  },
  {
   "cell_type": "code",
   "execution_count": 36,
   "id": "2a176eb6",
   "metadata": {},
   "outputs": [
    {
     "name": "stdout",
     "output_type": "stream",
     "text": [
      "6\n"
     ]
    }
   ],
   "source": [
    "print(len(text))"
   ]
  },
  {
   "cell_type": "code",
   "execution_count": 41,
   "id": "f62a45ee",
   "metadata": {},
   "outputs": [],
   "source": [
    "def add_3nos(a,b=0,c=2):\n",
    "    return a+b+c"
   ]
  },
  {
   "cell_type": "code",
   "execution_count": 42,
   "id": "bb12ea6c",
   "metadata": {},
   "outputs": [
    {
     "data": {
      "text/plain": [
       "3"
      ]
     },
     "execution_count": 42,
     "metadata": {},
     "output_type": "execute_result"
    }
   ],
   "source": [
    "add_3nos(1)"
   ]
  },
  {
   "cell_type": "code",
   "execution_count": 43,
   "id": "0b19d111",
   "metadata": {},
   "outputs": [
    {
     "data": {
      "text/plain": [
       "8"
      ]
     },
     "execution_count": 43,
     "metadata": {},
     "output_type": "execute_result"
    }
   ],
   "source": [
    "add_3nos(2,4)"
   ]
  },
  {
   "cell_type": "code",
   "execution_count": 45,
   "id": "3a36cb1f",
   "metadata": {},
   "outputs": [],
   "source": [
    "## Lambda Exprression- Anonymous Functions(funcion without name)"
   ]
  },
  {
   "cell_type": "code",
   "execution_count": 48,
   "id": "69812b66",
   "metadata": {},
   "outputs": [],
   "source": [
    "c=lambda x:x**3"
   ]
  },
  {
   "cell_type": "code",
   "execution_count": 49,
   "id": "7fcaa138",
   "metadata": {},
   "outputs": [
    {
     "data": {
      "text/plain": [
       "<function __main__.<lambda>(x)>"
      ]
     },
     "execution_count": 49,
     "metadata": {},
     "output_type": "execute_result"
    }
   ],
   "source": [
    "c"
   ]
  },
  {
   "cell_type": "code",
   "execution_count": 53,
   "id": "38aa9d9e",
   "metadata": {},
   "outputs": [
    {
     "data": {
      "text/plain": [
       "729"
      ]
     },
     "execution_count": 53,
     "metadata": {},
     "output_type": "execute_result"
    }
   ],
   "source": [
    "c(9)"
   ]
  },
  {
   "cell_type": "code",
   "execution_count": 54,
   "id": "52598f35",
   "metadata": {},
   "outputs": [],
   "source": [
    "fruits=['mango','apple','grapes','orange','salad']"
   ]
  },
  {
   "cell_type": "code",
   "execution_count": 55,
   "id": "1bf88730",
   "metadata": {},
   "outputs": [
    {
     "data": {
      "text/plain": [
       "['mango', 'apple', 'grapes', 'orange', 'salad']"
      ]
     },
     "execution_count": 55,
     "metadata": {},
     "output_type": "execute_result"
    }
   ],
   "source": [
    "fruits"
   ]
  },
  {
   "cell_type": "code",
   "execution_count": 56,
   "id": "79ce1daa",
   "metadata": {},
   "outputs": [
    {
     "data": {
      "text/plain": [
       "list"
      ]
     },
     "execution_count": 56,
     "metadata": {},
     "output_type": "execute_result"
    }
   ],
   "source": [
    "type(fruits)"
   ]
  },
  {
   "cell_type": "code",
   "execution_count": 57,
   "id": "425f5c80",
   "metadata": {},
   "outputs": [],
   "source": [
    "getLength =lambda x:len(x)<5"
   ]
  },
  {
   "cell_type": "code",
   "execution_count": 61,
   "id": "b280be03",
   "metadata": {},
   "outputs": [
    {
     "data": {
      "text/plain": [
       "[]"
      ]
     },
     "execution_count": 61,
     "metadata": {},
     "output_type": "execute_result"
    }
   ],
   "source": [
    "list(filter(lambda x:len(x)<5,fruits))"
   ]
  },
  {
   "cell_type": "code",
   "execution_count": 68,
   "id": "8cae07e6",
   "metadata": {},
   "outputs": [
    {
     "data": {
      "text/plain": [
       "[2, 4, 6, 8]"
      ]
     },
     "execution_count": 68,
     "metadata": {},
     "output_type": "execute_result"
    }
   ],
   "source": [
    "list(filter(lambda v:v%2==0,num))\n"
   ]
  },
  {
   "cell_type": "code",
   "execution_count": null,
   "id": "f79dc4ef",
   "metadata": {},
   "outputs": [],
   "source": []
  },
  {
   "cell_type": "code",
   "execution_count": 65,
   "id": "ae5194b3",
   "metadata": {},
   "outputs": [],
   "source": [
    "num=[1,2,3,4,5,6,7,8,9]"
   ]
  },
  {
   "cell_type": "code",
   "execution_count": 69,
   "id": "41ec3b4f",
   "metadata": {},
   "outputs": [
    {
     "ename": "TypeError",
     "evalue": "'type' object is not iterable",
     "output_type": "error",
     "traceback": [
      "\u001b[1;31m---------------------------------------------------------------------------\u001b[0m",
      "\u001b[1;31mTypeError\u001b[0m                                 Traceback (most recent call last)",
      "Cell \u001b[1;32mIn[69], line 1\u001b[0m\n\u001b[1;32m----> 1\u001b[0m \u001b[38;5;28mlist\u001b[39m(\u001b[38;5;28mfilter\u001b[39m)\n",
      "\u001b[1;31mTypeError\u001b[0m: 'type' object is not iterable"
     ]
    }
   ],
   "source": [
    "list(filter)"
   ]
  },
  {
   "cell_type": "code",
   "execution_count": null,
   "id": "422c447b",
   "metadata": {},
   "outputs": [],
   "source": []
  }
 ],
 "metadata": {
  "kernelspec": {
   "display_name": "Python 3 (ipykernel)",
   "language": "python",
   "name": "python3"
  },
  "language_info": {
   "codemirror_mode": {
    "name": "ipython",
    "version": 3
   },
   "file_extension": ".py",
   "mimetype": "text/x-python",
   "name": "python",
   "nbconvert_exporter": "python",
   "pygments_lexer": "ipython3",
   "version": "3.11.5"
  }
 },
 "nbformat": 4,
 "nbformat_minor": 5
}
