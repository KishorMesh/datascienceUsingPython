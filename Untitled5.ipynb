{
 "cells": [
  {
   "cell_type": "code",
   "execution_count": 1,
   "id": "83082a2a",
   "metadata": {},
   "outputs": [],
   "source": [
    "d = {'k1':[1,2,3,{'tricky':['oh','man','inception',\n",
    "                            {'target':[1,2,3,'hello']}]}]}\n"
   ]
  },
  {
   "cell_type": "code",
   "execution_count": 2,
   "id": "8db9b9dc",
   "metadata": {},
   "outputs": [
    {
     "data": {
      "text/plain": [
       "[1,\n",
       " 2,\n",
       " 3,\n",
       " {'tricky': ['oh', 'man', 'inception', {'target': [1, 2, 3, 'hello']}]}]"
      ]
     },
     "execution_count": 2,
     "metadata": {},
     "output_type": "execute_result"
    }
   ],
   "source": [
    "d['k1']"
   ]
  },
  {
   "cell_type": "code",
   "execution_count": 7,
   "id": "f88ebfaa",
   "metadata": {},
   "outputs": [
    {
     "data": {
      "text/plain": [
       "'hello'"
      ]
     },
     "execution_count": 7,
     "metadata": {},
     "output_type": "execute_result"
    }
   ],
   "source": [
    "d['k1'][3]['tricky'][3]['target'][3]"
   ]
  },
  {
   "cell_type": "code",
   "execution_count": 8,
   "id": "a619b7b7",
   "metadata": {},
   "outputs": [],
   "source": [
    "mail='kishor.meshram@gmail.com'"
   ]
  },
  {
   "cell_type": "code",
   "execution_count": 9,
   "id": "03aa05c5",
   "metadata": {},
   "outputs": [
    {
     "name": "stdout",
     "output_type": "stream",
     "text": [
      "kishor.meshram@gmail.com\n"
     ]
    }
   ],
   "source": [
    "print(mail)"
   ]
  },
  {
   "cell_type": "code",
   "execution_count": 10,
   "id": "bb294b02",
   "metadata": {},
   "outputs": [
    {
     "data": {
      "text/plain": [
       "['kishor.meshram', 'gmail.com']"
      ]
     },
     "execution_count": 10,
     "metadata": {},
     "output_type": "execute_result"
    }
   ],
   "source": [
    "mail.split('@')"
   ]
  },
  {
   "cell_type": "code",
   "execution_count": 11,
   "id": "756b3210",
   "metadata": {},
   "outputs": [],
   "source": [
    "d=mail.split('@')"
   ]
  },
  {
   "cell_type": "code",
   "execution_count": 12,
   "id": "8abc62bb",
   "metadata": {},
   "outputs": [
    {
     "data": {
      "text/plain": [
       "['kishor.meshram', 'gmail.com']"
      ]
     },
     "execution_count": 12,
     "metadata": {},
     "output_type": "execute_result"
    }
   ],
   "source": [
    "d"
   ]
  },
  {
   "cell_type": "code",
   "execution_count": 13,
   "id": "b5a74ff9",
   "metadata": {},
   "outputs": [
    {
     "data": {
      "text/plain": [
       "'gmail.com'"
      ]
     },
     "execution_count": 13,
     "metadata": {},
     "output_type": "execute_result"
    }
   ],
   "source": [
    "d[1]"
   ]
  },
  {
   "cell_type": "code",
   "execution_count": 14,
   "id": "0a17ee12",
   "metadata": {},
   "outputs": [],
   "source": [
    "def getDomin(d):\n",
    "    return d.split('@')[1]"
   ]
  },
  {
   "cell_type": "code",
   "execution_count": 16,
   "id": "747a2676",
   "metadata": {},
   "outputs": [
    {
     "data": {
      "text/plain": [
       "'gmail.com'"
      ]
     },
     "execution_count": 16,
     "metadata": {},
     "output_type": "execute_result"
    }
   ],
   "source": [
    "getDomin('kishor.m@gmail.com')"
   ]
  },
  {
   "cell_type": "code",
   "execution_count": 24,
   "id": "79350f17",
   "metadata": {},
   "outputs": [],
   "source": [
    "def findDog(value):\n",
    "    return 'dog' in value.lower().split();"
   ]
  },
  {
   "cell_type": "code",
   "execution_count": 26,
   "id": "d5aa8689",
   "metadata": {},
   "outputs": [
    {
     "data": {
      "text/plain": [
       "False"
      ]
     },
     "execution_count": 26,
     "metadata": {},
     "output_type": "execute_result"
    }
   ],
   "source": [
    "findDog('this is adoga')"
   ]
  },
  {
   "cell_type": "code",
   "execution_count": 27,
   "id": "f4feec83",
   "metadata": {},
   "outputs": [],
   "source": [
    "msg='This dog runs faster thanthe other dog dude!'"
   ]
  },
  {
   "cell_type": "code",
   "execution_count": 28,
   "id": "f23397ec",
   "metadata": {},
   "outputs": [
    {
     "data": {
      "text/plain": [
       "'This dog runs faster thanthe other dog dude!'"
      ]
     },
     "execution_count": 28,
     "metadata": {},
     "output_type": "execute_result"
    }
   ],
   "source": [
    "msg"
   ]
  },
  {
   "cell_type": "code",
   "execution_count": 36,
   "id": "e9f1937c",
   "metadata": {},
   "outputs": [],
   "source": [
    "msgsplite=msg.split()"
   ]
  },
  {
   "cell_type": "code",
   "execution_count": 40,
   "id": "63b065f3",
   "metadata": {},
   "outputs": [],
   "source": [
    "def find_dogCount(msg):\n",
    "    msgsplite=msg.split()\n",
    "    count=0;\n",
    "    for i in msgsplite:\n",
    "        if(i=='dog'):\n",
    "            count=count+1\n",
    "    return count\n",
    "\n"
   ]
  },
  {
   "cell_type": "code",
   "execution_count": 42,
   "id": "9e429114",
   "metadata": {},
   "outputs": [
    {
     "data": {
      "text/plain": [
       "2"
      ]
     },
     "execution_count": 42,
     "metadata": {},
     "output_type": "execute_result"
    }
   ],
   "source": [
    "find_dogCount('is this dog good dog')"
   ]
  },
  {
   "cell_type": "code",
   "execution_count": 5,
   "id": "4604aecc",
   "metadata": {},
   "outputs": [],
   "source": [
    "seq=['soup','dog','salad','car','great']"
   ]
  },
  {
   "cell_type": "code",
   "execution_count": 6,
   "id": "d936922a",
   "metadata": {},
   "outputs": [
    {
     "data": {
      "text/plain": [
       "['dog', 'car', 'great']"
      ]
     },
     "execution_count": 6,
     "metadata": {},
     "output_type": "execute_result"
    }
   ],
   "source": [
    "list(filter(lambda x:x[0]!='s',seq))"
   ]
  },
  {
   "cell_type": "code",
   "execution_count": 14,
   "id": "9e2d833c",
   "metadata": {},
   "outputs": [],
   "source": [
    "def catch_Speeding(speed, birthday):\n",
    "    if birthday==True:\n",
    "        speed=speed-5\n",
    "    if speed>80:\n",
    "        return 'Big Ticket'\n",
    "    elif speed>60:\n",
    "        return 'Small Ticket'\n",
    "    else:\n",
    "        return \"No ticket\""
   ]
  },
  {
   "cell_type": "code",
   "execution_count": 15,
   "id": "4f1fdef1",
   "metadata": {},
   "outputs": [
    {
     "data": {
      "text/plain": [
       "'No ticket'"
      ]
     },
     "execution_count": 15,
     "metadata": {},
     "output_type": "execute_result"
    }
   ],
   "source": [
    "catch_Speeding(60,True)"
   ]
  },
  {
   "cell_type": "code",
   "execution_count": 17,
   "id": "4bfe7bdb",
   "metadata": {},
   "outputs": [
    {
     "data": {
      "text/plain": [
       "'654'"
      ]
     },
     "execution_count": 17,
     "metadata": {},
     "output_type": "execute_result"
    }
   ],
   "source": [
    "'456'[::-1]"
   ]
  },
  {
   "cell_type": "code",
   "execution_count": 18,
   "id": "9773e199",
   "metadata": {},
   "outputs": [
    {
     "name": "stdout",
     "output_type": "stream",
     "text": [
      "Enter the number:2\n"
     ]
    }
   ],
   "source": [
    "n1=input(\"Enter the number:\")"
   ]
  },
  {
   "cell_type": "code",
   "execution_count": 19,
   "id": "af07278b",
   "metadata": {},
   "outputs": [
    {
     "name": "stdout",
     "output_type": "stream",
     "text": [
      "Enter the number:45\n",
      "Enter the number:54\n"
     ]
    }
   ],
   "source": [
    "n1=input(\"Enter the number:\")\n",
    "n2=input(\"Enter the number:\")"
   ]
  },
  {
   "cell_type": "code",
   "execution_count": 21,
   "id": "da844971",
   "metadata": {},
   "outputs": [
    {
     "data": {
      "text/plain": [
       "99"
      ]
     },
     "execution_count": 21,
     "metadata": {},
     "output_type": "execute_result"
    }
   ],
   "source": [
    "int(n1)+int(n2)"
   ]
  },
  {
   "cell_type": "code",
   "execution_count": 22,
   "id": "a442de31",
   "metadata": {},
   "outputs": [
    {
     "name": "stdout",
     "output_type": "stream",
     "text": [
      "Enter the number:45\n"
     ]
    },
    {
     "ename": "TypeError",
     "evalue": "'int' object is not subscriptable",
     "output_type": "error",
     "traceback": [
      "\u001b[1;31m---------------------------------------------------------------------------\u001b[0m",
      "\u001b[1;31mTypeError\u001b[0m                                 Traceback (most recent call last)",
      "Cell \u001b[1;32mIn[22], line 2\u001b[0m\n\u001b[0;32m      1\u001b[0m n1\u001b[38;5;241m=\u001b[39m\u001b[38;5;28minput\u001b[39m(\u001b[38;5;124m\"\u001b[39m\u001b[38;5;124mEnter the number:\u001b[39m\u001b[38;5;124m\"\u001b[39m)\n\u001b[1;32m----> 2\u001b[0m n2\u001b[38;5;241m=\u001b[39m\u001b[38;5;28mint\u001b[39m(n1)[::\u001b[38;5;241m-\u001b[39m\u001b[38;5;241m1\u001b[39m]\n",
      "\u001b[1;31mTypeError\u001b[0m: 'int' object is not subscriptable"
     ]
    }
   ],
   "source": [
    "n1=input(\"Enter the number:\")\n",
    "n2=int(n1[::-1])\n",
    "n3=str(int(n1)+n2)\n",
    "while"
   ]
  },
  {
   "cell_type": "code",
   "execution_count": 29,
   "id": "dc93f2a4",
   "metadata": {},
   "outputs": [
    {
     "name": "stdout",
     "output_type": "stream",
     "text": [
      "Enter the number:4\n",
      "Palindrome is 8\n"
     ]
    }
   ],
   "source": [
    "n1=input(\"Enter the number:\")\n",
    "n2=int(n1[::-1])\n",
    "n3=str(int(n1)+n2)\n",
    "while n3!=n3[::-1]:\n",
    "    n3=str(int(n3)+int(n3[::-1]))\n",
    "    print(\"Number is:\",n3)\n",
    "    print(\"Reverse is\",n3[::-1])\n",
    "print(\"Palindrome is\",n3)\n"
   ]
  },
  {
   "cell_type": "code",
   "execution_count": null,
   "id": "fdaa89ee",
   "metadata": {},
   "outputs": [],
   "source": []
  }
 ],
 "metadata": {
  "kernelspec": {
   "display_name": "Python 3 (ipykernel)",
   "language": "python",
   "name": "python3"
  },
  "language_info": {
   "codemirror_mode": {
    "name": "ipython",
    "version": 3
   },
   "file_extension": ".py",
   "mimetype": "text/x-python",
   "name": "python",
   "nbconvert_exporter": "python",
   "pygments_lexer": "ipython3",
   "version": "3.11.5"
  }
 },
 "nbformat": 4,
 "nbformat_minor": 5
}
